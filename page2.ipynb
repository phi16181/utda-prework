{
 "cells": [
  {
   "cell_type": "markdown",
   "metadata": {},
   "source": [
    "<img src=\"images/logo.png\">"
   ]
  },
  {
   "cell_type": "markdown",
   "metadata": {},
   "source": [
    "Now it's time for us to dive into learning Python for Data Science."
   ]
  },
  {
   "cell_type": "markdown",
   "metadata": {},
   "source": [
    "Before we get started coding you need to be aware of 'how' to properly code in Python. Believe it or not, how you code says a lot about your level of proficiency about Python and even your devotion to it in general. Have a quick read of the following article so you can understand what 'Pythonic' coding and PEP8 are: https://hub.packtpub.com/write-python-code-or-pythonic-code/"
   ]
  },
  {
   "cell_type": "markdown",
   "metadata": {},
   "source": [
    "<b>To begin this task start Jupyter Notebook in Google Collab and create a new Notebook and save it on Google Collab. You will be using this notebook throughout the rest of the pre-work so be sure it is easy to find!</b>"
   ]
  },
  {
   "cell_type": "markdown",
   "metadata": {},
   "source": [
    "<h1>Libraries or Modules</h1>"
   ]
  },
  {
   "cell_type": "markdown",
   "metadata": {},
   "source": [
    "Just like in may similar languages, most of the functionality in Python is provided by modules; these are also sometimes referred to as libraries. Python already contains a large number of modules that assist us with many tasks like working with files, working with Math and even common tasks for servers and networking.  The best part about using libraries or modules is we can easily import any of them into our notebooks or projects and utilize everything that has already been created within each module. We can easily accomplish this by using the import statement in Python as follows:"
   ]
  },
  {
   "cell_type": "code",
   "execution_count": null,
   "metadata": {},
   "outputs": [],
   "source": [
    "import name of module"
   ]
  },
  {
   "cell_type": "markdown",
   "metadata": {},
   "source": [
    "where 'name of module' is the name of the module we want to import. Remember if the module isn't already included within Python, you'll need to install it into your local environment (we'll do this later on your local machine).\n",
    "\n",
    "Here is an example that imports the math module:"
   ]
  },
  {
   "cell_type": "code",
   "execution_count": null,
   "metadata": {},
   "outputs": [],
   "source": [
    "import math"
   ]
  },
  {
   "cell_type": "markdown",
   "metadata": {},
   "source": [
    "and since math already includes numerous functions we can now access those pre-made functions anytime we need them. For example:"
   ]
  },
  {
   "cell_type": "code",
   "execution_count": null,
   "metadata": {},
   "outputs": [],
   "source": [
    "math.sqrt(25)"
   ]
  },
  {
   "cell_type": "markdown",
   "metadata": {},
   "source": [
    "returns a value of 5 or the square root of 25.\n",
    "\n",
    "We'll dive into functions on the next page of the pre-work, but a very useful 'built-in' functions is the dir() function. You can use the dir() function, along with an argument in the parentheses, to see what other options might be available for you to use in with your imports (and later on, your variables and other objects).Many modules also contain predefined values like this example (again with math):"
   ]
  },
  {
   "cell_type": "markdown",
   "metadata": {},
   "source": [
    "math.pi"
   ]
  },
  {
   "cell_type": "markdown",
   "metadata": {},
   "source": [
    "which returns the value of pi or 3.141592653589793.\n",
    "\n",
    "What does dir(math) return?"
   ]
  },
  {
   "cell_type": "markdown",
   "metadata": {},
   "source": [
    "For our use in Data Science well be using modules to work with files, machine learning, etc. and you have already installed many of the needed modules for this course. Lastly, we can refer to modules with their own names if we need to in order to clear up any confusion caused by names. For example:"
   ]
  },
  {
   "cell_type": "code",
   "execution_count": null,
   "metadata": {},
   "outputs": [],
   "source": [
    "import math as mt"
   ]
  },
  {
   "cell_type": "markdown",
   "metadata": {},
   "source": [
    "This allows us to then us mt in the place of the module name math. We use the new name when we use the module as follows:"
   ]
  },
  {
   "cell_type": "code",
   "execution_count": null,
   "metadata": {},
   "outputs": [],
   "source": [
    "mt.sqrt(25)"
   ]
  },
  {
   "cell_type": "markdown",
   "metadata": {},
   "source": [
    "<b>In your notebook import the following modules and experiment with some of the predefined functions within each module; use the the <a href=\"https://docs.python.org/3/tutorial/modules.html\"> module reference </a> as a guide:</b>\n",
    "    1. numpy\n",
    "    2. math"
   ]
  },
  {
   "cell_type": "markdown",
   "metadata": {},
   "source": [
    "<b>Now use numpy to establish some random data we can work with as follows:</b>"
   ]
  },
  {
   "cell_type": "code",
   "execution_count": null,
   "metadata": {},
   "outputs": [],
   "source": [
    "from numpy import random\n",
    "import numpy as np\n",
    "# uniform random numbers in [0,1]\n",
    "data_one = random.rand(5,5)"
   ]
  },
  {
   "cell_type": "markdown",
   "metadata": {},
   "source": [
    "Using the # in front of a line of code is how we comment code in Python. Do not worry about what data_one means just yet; that will be covered shortly. This should output the following:"
   ]
  },
  {
   "cell_type": "markdown",
   "metadata": {},
   "source": [
    "<img src=\"images/jup2.png\">"
   ]
  },
  {
   "cell_type": "markdown",
   "metadata": {},
   "source": [
    "This is an example of a Numpy array and something we'll be covering a little later."
   ]
  },
  {
   "cell_type": "markdown",
   "metadata": {},
   "source": [
    "<b>Now we use a the mean function from within numpy to obtain the mean of the entire array of numbers as follows:</b>"
   ]
  },
  {
   "cell_type": "code",
   "execution_count": null,
   "metadata": {},
   "outputs": [],
   "source": [
    "np.mean(data_one)"
   ]
  },
  {
   "cell_type": "markdown",
   "metadata": {},
   "source": [
    "Notice how we called np to reference the numpy module?"
   ]
  },
  {
   "cell_type": "markdown",
   "metadata": {},
   "source": [
    "<b>Now it is your turn! Use three predefined functions with <i>math</i> to obtain information about the data stored in the numpy array; note any issues you encounter along the way as comments in your notebook. These will serve you well later as lesson learned that you have documented and can reference.</b>"
   ]
  },
  {
   "cell_type": "markdown",
   "metadata": {},
   "source": [
    "<b>Ok, lets dive into the basics of functions, variables and datatypes</b>"
   ]
  },
  {
   "cell_type": "markdown",
   "metadata": {},
   "source": [
    "<a href=\"page1.ipynb\">Go Back</a> | <a href=\"page3.ipynb\">Next page</a>"
   ]
  }
 ],
 "metadata": {
  "kernelspec": {
   "display_name": "Python 3",
   "language": "python",
   "name": "python3"
  },
  "language_info": {
   "codemirror_mode": {
    "name": "ipython",
    "version": 3
   },
   "file_extension": ".py",
   "mimetype": "text/x-python",
   "name": "python",
   "nbconvert_exporter": "python",
   "pygments_lexer": "ipython3",
   "version": "3.7.3"
  }
 },
 "nbformat": 4,
 "nbformat_minor": 2
}
