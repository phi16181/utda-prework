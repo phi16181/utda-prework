{
 "cells": [
  {
   "cell_type": "markdown",
   "metadata": {},
   "source": [
    "<img src=\"images/logo.png\">"
   ]
  },
  {
   "cell_type": "markdown",
   "metadata": {},
   "source": [
    "<h1>Functions</h1>"
   ]
  },
  {
   "cell_type": "markdown",
   "metadata": {},
   "source": [
    "Functions are a easy way to write efficient code and break your code into smaller modular pieces. This make it much easier to understand and reuse.  Almost anything in Python that does some type of task can be defined as a function and functions come pre-packaged within Python. For example: the print function does just what it sounds like it does; it prints out whatever you instruct it to print out and it takes to basic structure that all functions follow:"
   ]
  },
  {
   "cell_type": "code",
   "execution_count": null,
   "metadata": {},
   "outputs": [],
   "source": [
    "function_name()"
   ]
  },
  {
   "cell_type": "markdown",
   "metadata": {},
   "source": [
    "Notice the parentheses? This is where content goes that we need the function to do whatever it has been programmed work on. For example:"
   ]
  },
  {
   "cell_type": "code",
   "execution_count": null,
   "metadata": {},
   "outputs": [],
   "source": [
    "print('I Love data Science')"
   ]
  },
  {
   "cell_type": "markdown",
   "metadata": {},
   "source": [
    "Prints out the sentence I Love Data Science (anything in quotes is treated as a string, but more on this in just a sec!)\n",
    "\n",
    "We will not be writing any custom functions for our analysis, but you are highly encouraged to experiment with writing your own!\n",
    "\n",
    "Python has a number of functions and types built into it that are always available. They are listed <a href=\"https://docs.python.org/3/library/functions.html\">here </a>in alphabetical order.\n",
    "\n",
    "As we previously discovered, one of these built-in functions is the dir() function. You can use the dir() function, along with an argument in the parentheses, to see what other options might be available for you to use in your projects. For example:"
   ]
  },
  {
   "cell_type": "code",
   "execution_count": null,
   "metadata": {},
   "outputs": [],
   "source": [
    "dir('Ben')"
   ]
  },
  {
   "cell_type": "markdown",
   "metadata": {},
   "source": [
    "Lists all of the possible functions that I can use on 'Ben'. dir() is a great way to see all of the possible actions we can perform on various items in Python as well as a good way to also get further information about various objects in Python."
   ]
  },
  {
   "cell_type": "markdown",
   "metadata": {},
   "source": [
    "<h1>Variables</h1>"
   ]
  },
  {
   "cell_type": "markdown",
   "metadata": {},
   "source": [
    "Variables are where we store things in Python and variables make it easy to reuse data. Variable names in Python can contain alphanumerical characters a-z, A-Z, 0-9 and some special characters, but normal variable names must start with a letter. Here is an example:"
   ]
  },
  {
   "cell_type": "code",
   "execution_count": null,
   "metadata": {},
   "outputs": [],
   "source": [
    "variable_name = 25"
   ]
  },
  {
   "cell_type": "markdown",
   "metadata": {},
   "source": [
    "This simply assigns a value of 25 to the variable named Variable_name. Here is another example:"
   ]
  },
  {
   "cell_type": "code",
   "execution_count": null,
   "metadata": {},
   "outputs": [],
   "source": [
    "variable_name_1 = 'I Love data Science'"
   ]
  },
  {
   "cell_type": "markdown",
   "metadata": {},
   "source": [
    "What do you think happens when we now implement the print function as follows (try it yourself):"
   ]
  },
  {
   "cell_type": "code",
   "execution_count": null,
   "metadata": {},
   "outputs": [],
   "source": [
    "print(variable_name_1)"
   ]
  },
  {
   "cell_type": "markdown",
   "metadata": {},
   "source": [
    "<h1>Datatypes</h1>"
   ]
  },
  {
   "cell_type": "markdown",
   "metadata": {},
   "source": [
    "Data comes in different types (numbers, characters, etc.) so we need different ways to tell Python what type of data a variable is using so Python can treat it the correct way. Data types are not explicitly specified in Python, but variables do have a specific 'type' associated with it. The type is assumed from the value that the variable has been assigned. For example:"
   ]
  },
  {
   "cell_type": "code",
   "execution_count": null,
   "metadata": {},
   "outputs": [],
   "source": [
    "variable_name = 25\n",
    "type(variable_name)"
   ]
  },
  {
   "cell_type": "markdown",
   "metadata": {},
   "source": [
    "Returns the int datatype for a Integer. Integers in Python are numbers without decimals.\n",
    "Here is another example:"
   ]
  },
  {
   "cell_type": "code",
   "execution_count": null,
   "metadata": {},
   "outputs": [],
   "source": [
    "variable_name = 25.0\n",
    "type(variable_name)"
   ]
  },
  {
   "cell_type": "markdown",
   "metadata": {},
   "source": [
    "Returns the float datatype for a Float, which is a number with decimals. What does dir(variable_name) return?"
   ]
  },
  {
   "cell_type": "markdown",
   "metadata": {},
   "source": [
    "<b>Now it is your turn! Try the following in your own notebook:</b>"
   ]
  },
  {
   "cell_type": "code",
   "execution_count": null,
   "metadata": {},
   "outputs": [],
   "source": [
    "var_one = 25\n",
    "\n",
    "var_two = 25.0\n",
    "\n",
    "var_three = var_one + var_two\n",
    "\n",
    "print(var_three)"
   ]
  },
  {
   "cell_type": "markdown",
   "metadata": {},
   "source": [
    "<b>Here is one more example:</b>"
   ]
  },
  {
   "cell_type": "code",
   "execution_count": null,
   "metadata": {},
   "outputs": [],
   "source": [
    "var_one = 25\n",
    "\n",
    "var_two = 'Hello'\n",
    "\n",
    "var_three = var_one + var_two\n",
    "\n",
    "print(var_three)"
   ]
  },
  {
   "cell_type": "markdown",
   "metadata": {},
   "source": [
    "<b>What happened? Did it print out as expected? If not, see if you can research why or why not and find the solution. Be sure to bookmark where you find the answer because you'll likely be returning for other answers!</b>"
   ]
  },
  {
   "cell_type": "markdown",
   "metadata": {},
   "source": [
    "There are many additional datatypes, please <a href=\"https://docs.python.org/3/library/datatypes.html\">reference the resources</a> for more information."
   ]
  },
  {
   "cell_type": "markdown",
   "metadata": {},
   "source": [
    "<h1>Data Structures</h1>"
   ]
  },
  {
   "cell_type": "markdown",
   "metadata": {},
   "source": [
    "As you have experienced, variables store one value at a time so we can use this value later, but what if we need to store more than one value? Python uses a data structure for this purpose and there are <a href=\"https://docs.python.org/3/tutorial/datastructures.html\"> numerous data structures </a> we can use in data science. Lets start with the most basic one: Lists. "
   ]
  },
  {
   "cell_type": "markdown",
   "metadata": {},
   "source": [
    "<b>Lists</b>"
   ]
  },
  {
   "cell_type": "markdown",
   "metadata": {},
   "source": [
    "A single list may contain DataTypes like Integers, Strings, as well as Objects. Lists are mutable, and hence, they can be altered even after their creation. Lists can be defined as follows:"
   ]
  },
  {
   "cell_type": "code",
   "execution_count": null,
   "metadata": {},
   "outputs": [],
   "source": [
    "list_name = [ ]"
   ]
  },
  {
   "cell_type": "markdown",
   "metadata": {},
   "source": [
    "Here is a real example:"
   ]
  },
  {
   "cell_type": "code",
   "execution_count": 3,
   "metadata": {},
   "outputs": [],
   "source": [
    "list_one = ['ben','ray','mike','logan']"
   ]
  },
  {
   "cell_type": "markdown",
   "metadata": {},
   "source": [
    "The strings (they could also be numbers or even a mixture of both) are called elements. Each element in a list can be of any type and elements in ordered data structures like lists can be referenced by the physcial order of appearance, starting with '0' and moving to the right. For example: "
   ]
  },
  {
   "cell_type": "code",
   "execution_count": null,
   "metadata": {},
   "outputs": [],
   "source": [
    "print(list_one[1:3])"
   ]
  },
  {
   "cell_type": "markdown",
   "metadata": {},
   "source": [
    "This returns the second and third element in the list [ray ,mike]; note that the indexes begin at 0 so [0:2] will return [ben, ray]"
   ]
  },
  {
   "cell_type": "markdown",
   "metadata": {},
   "source": [
    "<b>Dictionaries</b>"
   ]
  },
  {
   "cell_type": "markdown",
   "metadata": {},
   "source": [
    "Dictionaries are like lists, except that each element is a key-value pair. The syntax for dictionaries is {key1 : value1, ...}:. Here s an example:"
   ]
  },
  {
   "cell_type": "code",
   "execution_count": null,
   "metadata": {},
   "outputs": [],
   "source": [
    "tel = {'jack': 4098, 'sape': 4139}"
   ]
  },
  {
   "cell_type": "markdown",
   "metadata": {},
   "source": [
    "We can easily reference elements within a dictionary by simply calling their key like such:"
   ]
  },
  {
   "cell_type": "code",
   "execution_count": null,
   "metadata": {},
   "outputs": [],
   "source": [
    "tel['jack']"
   ]
  },
  {
   "cell_type": "markdown",
   "metadata": {},
   "source": [
    "This returns the value of 'jack', which is 4098. "
   ]
  },
  {
   "cell_type": "markdown",
   "metadata": {},
   "source": [
    "<b>Now it is your turn! Try the following in your own notebook:</b>\n",
    "\n",
    "1. Define a variable that represents a dictionary with 5 INT elements\n",
    "2. Use functions from the math module to perform three different math operations on three of the five elements; you may find it easier to define variables for the elements. Feel free to combine elements as needed. \n",
    "3. Lastly, print out you results separately."
   ]
  },
  {
   "cell_type": "markdown",
   "metadata": {},
   "source": [
    "<hr></hr>"
   ]
  },
  {
   "cell_type": "markdown",
   "metadata": {},
   "source": [
    "There are numerous resources where one can get help and numerous tutorials, although many arent really for novice Python users. We feel strongly that <a href=\"http://greenteapress.com/thinkpython2/thinkpython2.pdf\">Think Python</a> is a good starting point for Python beginners if you'd like to continue your journey there after working through this pre-work. "
   ]
  },
  {
   "cell_type": "markdown",
   "metadata": {},
   "source": [
    "<a href=\"page2.ipynb\">Go Back</a>"
   ]
  }
 ],
 "metadata": {
  "kernelspec": {
   "display_name": "Python 3",
   "language": "python",
   "name": "python3"
  },
  "language_info": {
   "codemirror_mode": {
    "name": "ipython",
    "version": 3
   },
   "file_extension": ".py",
   "mimetype": "text/x-python",
   "name": "python",
   "nbconvert_exporter": "python",
   "pygments_lexer": "ipython3",
   "version": "3.7.3"
  }
 },
 "nbformat": 4,
 "nbformat_minor": 2
}
